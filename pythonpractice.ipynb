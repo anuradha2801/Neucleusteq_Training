{
  "nbformat": 4,
  "nbformat_minor": 0,
  "metadata": {
    "colab": {
      "provenance": [],
      "toc_visible": true,
      "authorship_tag": "ABX9TyNdWZlgWIPrFCh3xvA9q1Qi",
      "include_colab_link": true
    },
    "kernelspec": {
      "name": "python3",
      "display_name": "Python 3"
    },
    "language_info": {
      "name": "python"
    }
  },
  "cells": [
    {
      "cell_type": "markdown",
      "metadata": {
        "id": "view-in-github",
        "colab_type": "text"
      },
      "source": [
        "<a href=\"https://colab.research.google.com/github/anuradha2801/Neucleusteq_Training/blob/main/pythonpractice.ipynb\" target=\"_parent\"><img src=\"https://colab.research.google.com/assets/colab-badge.svg\" alt=\"Open In Colab\"/></a>"
      ]
    },
    {
      "cell_type": "code",
      "execution_count": null,
      "metadata": {
        "colab": {
          "base_uri": "https://localhost:8080/"
        },
        "id": "1MN6P_QNoMuw",
        "outputId": "df27ab98-a497-45e8-a05d-e6de923096cd"
      },
      "outputs": [
        {
          "output_type": "stream",
          "name": "stdout",
          "text": [
            "hello\n"
          ]
        }
      ],
      "source": [
        "print(\"hello\")"
      ]
    },
    {
      "cell_type": "code",
      "source": [
        "string_user_input=str(input(\"Enter your name\"))\n",
        "print(string_user_input)"
      ],
      "metadata": {
        "colab": {
          "base_uri": "https://localhost:8080/"
        },
        "id": "P9rrtvmZo7uk",
        "outputId": "c5fcbb3e-fb03-4bc1-ad29-13d7b6ac0558"
      },
      "execution_count": null,
      "outputs": [
        {
          "output_type": "stream",
          "name": "stdout",
          "text": [
            "Enter your nameanu\n",
            "anu\n"
          ]
        }
      ]
    },
    {
      "cell_type": "code",
      "source": [
        "num1=45\n",
        "num2=55\n",
        "print(num1==num2)\n",
        "print(num1>num2)\n",
        "print(num1<num2)\n",
        "print(num1!=num2)"
      ],
      "metadata": {
        "colab": {
          "base_uri": "https://localhost:8080/"
        },
        "id": "_qCzA7eLpV8K",
        "outputId": "451581af-1708-4a8e-906e-cbbb32b2beb5"
      },
      "execution_count": null,
      "outputs": [
        {
          "output_type": "stream",
          "name": "stdout",
          "text": [
            "False\n",
            "False\n",
            "True\n",
            "True\n"
          ]
        }
      ]
    },
    {
      "cell_type": "code",
      "source": [
        "age=int (input(\"enter age\"))\n",
        "if(age>18):\n",
        "  print(\"You are eligible\")\n",
        "else:\n",
        "  print(\"you are not eligible\")"
      ],
      "metadata": {
        "colab": {
          "base_uri": "https://localhost:8080/"
        },
        "id": "Jrt-K98fp_Uv",
        "outputId": "aefcaff6-597a-44fe-e374-a3214efdc684"
      },
      "execution_count": null,
      "outputs": [
        {
          "output_type": "stream",
          "name": "stdout",
          "text": [
            "enter age20\n",
            "You are eligible\n",
            "enter age30\n",
            "You are eligible\n"
          ]
        }
      ]
    },
    {
      "cell_type": "code",
      "source": [
        "num=int(input(\"Num: \"))\n",
        "if(num<10):\n",
        "  print(\"1 digit number\")\n",
        "elif(num>9 and num<100):\n",
        "  print(\"2 digit number\")\n",
        "else:\n",
        "  print(\"number is greater than 99\")\n"
      ],
      "metadata": {
        "colab": {
          "base_uri": "https://localhost:8080/"
        },
        "id": "q6oPHE4Ts_UV",
        "outputId": "3f3f0bf9-b914-4047-bcbd-3bcb5634be64"
      },
      "execution_count": null,
      "outputs": [
        {
          "output_type": "stream",
          "name": "stdout",
          "text": [
            "Num: 100\n",
            "number is greater than 99\n"
          ]
        }
      ]
    },
    {
      "cell_type": "code",
      "source": [
        "list1=(10,91,99,80)\n",
        "for i in list1:\n",
        "  print (i)"
      ],
      "metadata": {
        "colab": {
          "base_uri": "https://localhost:8080/"
        },
        "id": "RXnKoPHWuncv",
        "outputId": "150354e6-6342-4c22-9bc3-48bb21768e9f"
      },
      "execution_count": null,
      "outputs": [
        {
          "output_type": "stream",
          "name": "stdout",
          "text": [
            "10\n",
            "91\n",
            "99\n",
            "80\n"
          ]
        }
      ]
    },
    {
      "cell_type": "code",
      "source": [
        "num=0\n",
        "while num<5:\n",
        "  num=num+1\n",
        "  print(\"anu\")"
      ],
      "metadata": {
        "colab": {
          "base_uri": "https://localhost:8080/"
        },
        "id": "0tKTacnkvJIC",
        "outputId": "79ea854f-2825-4788-9983-8c81d195f62b"
      },
      "execution_count": null,
      "outputs": [
        {
          "output_type": "stream",
          "name": "stdout",
          "text": [
            "anu\n",
            "anu\n",
            "anu\n",
            "anu\n",
            "anu\n"
          ]
        }
      ]
    },
    {
      "cell_type": "code",
      "source": [
        "#add two numbers\n",
        "num1=int(input(\"Num1: \"))\n",
        "num2=int(input(\"Num2: \"))\n",
        "sum=num1+num2\n",
        "print(sum)"
      ],
      "metadata": {
        "colab": {
          "base_uri": "https://localhost:8080/"
        },
        "id": "OXHtw_K-v4UF",
        "outputId": "d1611bf5-db95-477c-957a-53a0a9e6ddb5"
      },
      "execution_count": null,
      "outputs": [
        {
          "output_type": "stream",
          "name": "stdout",
          "text": [
            "Num1: 10\n",
            "Num2: 20\n",
            "30\n"
          ]
        }
      ]
    },
    {
      "cell_type": "code",
      "source": [
        "#maximum of two numbers\n",
        "num1=int(input(\"Num1: \"))\n",
        "num2=int(input(\"Num2: \"))\n",
        "if(num1>num2):\n",
        "  print(num1)\n",
        "else:\n",
        "  print(num2)"
      ],
      "metadata": {
        "colab": {
          "base_uri": "https://localhost:8080/"
        },
        "id": "r5KapXcFwFVE",
        "outputId": "677f49c7-35ee-49ae-f81f-f9a38193ceeb"
      },
      "execution_count": null,
      "outputs": [
        {
          "output_type": "stream",
          "name": "stdout",
          "text": [
            "Num1: 20\n",
            "Num2: 10\n",
            "20\n"
          ]
        }
      ]
    },
    {
      "cell_type": "code",
      "source": [
        "s=str(input(\"Enter string\"))\n",
        "i=0\n",
        "j=len(s)-1\n",
        "while(i<j):\n",
        "  if(s[i]!=s[j]):\n",
        "    print(\"Not palindrome\")\n",
        "    break\n",
        "  else:\n",
        "    print(\"palindrome\")\n",
        "  i=i+1\n",
        "  j=j-1"
      ],
      "metadata": {
        "colab": {
          "base_uri": "https://localhost:8080/"
        },
        "id": "tXzwIo2AxAMo",
        "outputId": "dd391d0b-5144-486e-8ea1-1941ca653ecc"
      },
      "execution_count": null,
      "outputs": [
        {
          "output_type": "stream",
          "name": "stdout",
          "text": [
            "Enter stringraksha\n",
            "Not palindrome\n"
          ]
        }
      ]
    },
    {
      "cell_type": "code",
      "source": [
        "l=\"hello anu diya prateeksha muskaan\"\n",
        "a=l.split(\" \")\n",
        "for i in a:\n",
        "  if(len(i)%2==0):\n",
        "    print(i)\n"
      ],
      "metadata": {
        "id": "UpoAjKetzjzu",
        "colab": {
          "base_uri": "https://localhost:8080/"
        },
        "outputId": "a7f69bce-4077-45ab-ba50-9868ba0b24cd"
      },
      "execution_count": null,
      "outputs": [
        {
          "output_type": "stream",
          "name": "stdout",
          "text": [
            "raksha\n",
            "prateeksha\n"
          ]
        }
      ]
    },
    {
      "cell_type": "code",
      "source": [
        "tuple={1,2,3}\n",
        "for i in tuple:\n",
        "  print(i)"
      ],
      "metadata": {
        "colab": {
          "base_uri": "https://localhost:8080/"
        },
        "id": "BQGw29MUKwDw",
        "outputId": "3b8b3fd0-9769-46d8-87e6-60cd1f2570cd"
      },
      "execution_count": null,
      "outputs": [
        {
          "output_type": "stream",
          "name": "stdout",
          "text": [
            "1\n",
            "2\n",
            "3\n"
          ]
        }
      ]
    },
    {
      "cell_type": "code",
      "source": [
        "list1=[1,2,3,4]\n",
        "list1.append(5)\n",
        "print(list1)"
      ],
      "metadata": {
        "colab": {
          "base_uri": "https://localhost:8080/"
        },
        "id": "hf9BuwpsLB2r",
        "outputId": "28737f09-c6de-497c-dd43-5758468590fd"
      },
      "execution_count": null,
      "outputs": [
        {
          "output_type": "stream",
          "name": "stdout",
          "text": [
            "[1, 2, 3, 4, 5]\n"
          ]
        }
      ]
    },
    {
      "cell_type": "code",
      "source": [
        "import numpy as np\n",
        "a1=np.arange(0,11)\n",
        "print(type(a1))\n",
        "print(a1)"
      ],
      "metadata": {
        "colab": {
          "base_uri": "https://localhost:8080/"
        },
        "id": "HEK-lCMcLUyz",
        "outputId": "8027ef50-f574-4052-958b-0cf24bb9432e"
      },
      "execution_count": null,
      "outputs": [
        {
          "output_type": "stream",
          "name": "stdout",
          "text": [
            "<class 'numpy.ndarray'>\n",
            "[ 0  1  2  3  4  5  6  7  8  9 10]\n"
          ]
        }
      ]
    },
    {
      "cell_type": "code",
      "source": [
        "mat=np.full((2,2),99)\n",
        "mat1=np.full(5,12)\n",
        "print(mat)\n",
        "print(mat1)"
      ],
      "metadata": {
        "colab": {
          "base_uri": "https://localhost:8080/"
        },
        "id": "opL3DJ2lOT9y",
        "outputId": "95dddf11-1ebb-48d7-d565-234cc4af0523"
      },
      "execution_count": null,
      "outputs": [
        {
          "output_type": "stream",
          "name": "stdout",
          "text": [
            "[[99 99]\n",
            " [99 99]]\n",
            "[12 12 12 12 12]\n"
          ]
        }
      ]
    },
    {
      "cell_type": "code",
      "source": [
        "#eye-identity matrix create with diagonal element\n",
        "matrix1=np.eye(2)\n",
        "print(\"3*3 Matrix: \\n\",matrix1)\n",
        "print(\"\\n\")\n",
        "matrix2=np.eye(2,3)\n",
        "print(\"2*3 Matrix: \\n\",matrix2)\n",
        "print(\"\\n\")\n",
        "matrix3=np.eye(5,5)\n",
        "print(\"5*5 Matrix: \\n\",matrix3)\n"
      ],
      "metadata": {
        "colab": {
          "base_uri": "https://localhost:8080/"
        },
        "id": "K997qDrNXAqN",
        "outputId": "e40823d2-eea3-419c-b130-063b3e627b44"
      },
      "execution_count": null,
      "outputs": [
        {
          "output_type": "stream",
          "name": "stdout",
          "text": [
            "3*3 Matrix: \n",
            " [[1. 0.]\n",
            " [0. 1.]]\n",
            "\n",
            "\n",
            "2*3 Matrix: \n",
            " [[1. 0. 0.]\n",
            " [0. 1. 0.]]\n",
            "\n",
            "\n",
            "5*5 Matrix: \n",
            " [[1. 0. 0. 0. 0.]\n",
            " [0. 1. 0. 0. 0.]\n",
            " [0. 0. 1. 0. 0.]\n",
            " [0. 0. 0. 1. 0.]\n",
            " [0. 0. 0. 0. 1.]]\n"
          ]
        }
      ]
    },
    {
      "cell_type": "code",
      "source": [
        "ele=np.diag(matrix3)\n",
        "print(ele)\n",
        "new2=np.diag([1,2,3])\n",
        "print(new2)"
      ],
      "metadata": {
        "colab": {
          "base_uri": "https://localhost:8080/"
        },
        "id": "5TO2xbGxYX07",
        "outputId": "9539840c-f2c8-413b-b7e1-ccc21b2aa8e2"
      },
      "execution_count": null,
      "outputs": [
        {
          "output_type": "stream",
          "name": "stdout",
          "text": [
            "[1. 1. 1. 1. 1.]\n",
            "[[1 0 0]\n",
            " [0 2 0]\n",
            " [0 0 3]]\n"
          ]
        }
      ]
    },
    {
      "cell_type": "code",
      "source": [
        "ran_arr=np.random.rand(4,4)\n",
        "print(ran_arr)\n",
        "print(\"\\n\")\n",
        "random_arr=np.random.randn(25)\n",
        "print(random_arr)\n",
        "print(\"\\n\")\n",
        "ran_arr=np.random.randint(1,51)\n",
        "print(ran_arr)"
      ],
      "metadata": {
        "colab": {
          "base_uri": "https://localhost:8080/"
        },
        "id": "WY5u-BA7XhYY",
        "outputId": "7fc2e8a6-5de2-479c-86fa-ea3195eb263f"
      },
      "execution_count": null,
      "outputs": [
        {
          "output_type": "stream",
          "name": "stdout",
          "text": [
            "[[0.49035176 0.01555112 0.6840611  0.24034226]\n",
            " [0.34656237 0.45845244 0.14170791 0.36101852]\n",
            " [0.66679154 0.53124369 0.80955713 0.92869699]\n",
            " [0.66498524 0.13096041 0.36379347 0.06856775]]\n",
            "\n",
            "\n",
            "[ 0.18547686 -0.2123017  -0.40159725  0.5647805   0.45960103 -0.59241044\n",
            "  0.95910295 -0.15903234  0.80791077  0.3956165  -0.68629473 -1.2038784\n",
            "  1.76663899  0.28445675  0.58053993 -0.88347059 -0.12514287  0.08080968\n",
            " -0.34053325  0.9508552   0.22983924 -0.05232212 -0.84387533 -0.66081682\n",
            " -0.07065911]\n",
            "\n",
            "\n",
            "19\n"
          ]
        }
      ]
    },
    {
      "cell_type": "code",
      "source": [
        "new=np.full_like(mat,33)\n",
        "print(new)\n",
        "new1=np.full_like(mat1,45)\n",
        "print(new1)"
      ],
      "metadata": {
        "colab": {
          "base_uri": "https://localhost:8080/"
        },
        "id": "5Ohq6w6ha8zM",
        "outputId": "ca37532d-bec0-40ac-9472-1a8928e0891e"
      },
      "execution_count": null,
      "outputs": [
        {
          "output_type": "stream",
          "name": "stdout",
          "text": [
            "[[33 33]\n",
            " [33 33]]\n",
            "[45 45 45 45 45]\n"
          ]
        }
      ]
    },
    {
      "cell_type": "code",
      "source": [
        "one=np.ones((3,3))\n",
        "print(one)\n",
        "ones1=np.ones(one.shape)\n",
        "print(ones1)"
      ],
      "metadata": {
        "colab": {
          "base_uri": "https://localhost:8080/"
        },
        "id": "jA770C_Vbyp4",
        "outputId": "22346565-cc2e-41df-ca58-243ece24f295"
      },
      "execution_count": null,
      "outputs": [
        {
          "output_type": "stream",
          "name": "stdout",
          "text": [
            "[[1. 1. 1.]\n",
            " [1. 1. 1.]\n",
            " [1. 1. 1.]]\n",
            "[[1. 1. 1.]\n",
            " [1. 1. 1.]\n",
            " [1. 1. 1.]]\n"
          ]
        }
      ]
    },
    {
      "cell_type": "code",
      "source": [
        "import numpy as np\n",
        "a1=np.array([1,2,3])\n",
        "a2=np.array([4,5,6])\n",
        "concat=np.concatenate((a1,a2),axis=0)\n",
        "print(concat)\n",
        "new_a3=np.append(a1,a2)\n",
        "print(new_a3)"
      ],
      "metadata": {
        "colab": {
          "base_uri": "https://localhost:8080/"
        },
        "id": "_he5rEp7wo62",
        "outputId": "4318f562-673e-4ad1-bb06-093e556a8e44"
      },
      "execution_count": null,
      "outputs": [
        {
          "output_type": "stream",
          "name": "stdout",
          "text": [
            "[1 2 3 4 5 6]\n",
            "[1 2 3 4 5 6]\n"
          ]
        }
      ]
    },
    {
      "cell_type": "code",
      "source": [
        "list1=[1,2,3]\n",
        "list2=[9,8,7]\n",
        "list3=[]\n",
        "for i in range(0,len(list1)):\n",
        "  list3.append(list1[i]+list2[i])\n",
        "print(list3)"
      ],
      "metadata": {
        "colab": {
          "base_uri": "https://localhost:8080/"
        },
        "id": "-vWDyxWYyL9Y",
        "outputId": "d92f2ba6-0e9a-4e89-fa8e-13ad338e55b3"
      },
      "execution_count": null,
      "outputs": [
        {
          "output_type": "stream",
          "name": "stdout",
          "text": [
            "[10, 10, 10]\n"
          ]
        }
      ]
    },
    {
      "cell_type": "code",
      "source": [
        "a=np.array([1,2,3])\n",
        "print(a+2)\n",
        "b=np.array([8,9,3])\n",
        "print(b-2)\n",
        "print(a==b)\n",
        "print(np.sort(b))\n",
        "print(np.max(b))\n",
        "print(np.min(b))\n",
        "print(np.argmin(b))\n",
        "print(np.min(b))\n",
        "print(np.mean(b))\n",
        "print(np.median(b))"
      ],
      "metadata": {
        "colab": {
          "base_uri": "https://localhost:8080/"
        },
        "id": "zXMg8naEyuKS",
        "outputId": "e0cb13c1-b616-4ff0-d0bc-63a7f75e3841"
      },
      "execution_count": null,
      "outputs": [
        {
          "output_type": "stream",
          "name": "stdout",
          "text": [
            "[3 4 5]\n",
            "[6 7 1]\n",
            "[False False  True]\n",
            "[3 8 9]\n",
            "9\n",
            "3\n",
            "2\n",
            "6.666666666666667\n",
            "8.0\n"
          ]
        }
      ]
    },
    {
      "cell_type": "code",
      "source": [],
      "metadata": {
        "id": "UEDamGH36oYS"
      },
      "execution_count": null,
      "outputs": []
    },
    {
      "cell_type": "code",
      "source": [
        "a=np.array([1,2,3,4])\n",
        "b=np.array([5,6,7,8])\n",
        "c=np.array([9,10,11,12])\n",
        "arr=np.hstack([a,b,c])\n",
        "print(arr)"
      ],
      "metadata": {
        "colab": {
          "base_uri": "https://localhost:8080/"
        },
        "id": "84Enhyzx1VX3",
        "outputId": "d2e627b1-db22-4da4-f68d-d6223606e2d4"
      },
      "execution_count": null,
      "outputs": [
        {
          "output_type": "stream",
          "name": "stdout",
          "text": [
            "[ 1  2  3  4  5  6  7  8  9 10 11 12]\n"
          ]
        }
      ]
    },
    {
      "cell_type": "code",
      "source": [
        "a=(\"nitin mom anu raksha\")\n",
        "b=a.split(\" \")\n",
        "for k in b:\n",
        " if(k==k[::-1]):\n",
        "   print(k)\n"
      ],
      "metadata": {
        "colab": {
          "base_uri": "https://localhost:8080/"
        },
        "id": "-cQLkeh66p-0",
        "outputId": "488d9210-aa28-418a-aa65-23d11b859838"
      },
      "execution_count": null,
      "outputs": [
        {
          "output_type": "stream",
          "name": "stdout",
          "text": [
            "nitin\n",
            "mom\n"
          ]
        }
      ]
    }
  ]
}